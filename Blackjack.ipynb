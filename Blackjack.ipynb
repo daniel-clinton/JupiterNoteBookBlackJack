{
  "nbformat": 4,
  "nbformat_minor": 0,
  "metadata": {
    "colab": {
      "provenance": []
    },
    "kernelspec": {
      "name": "python3",
      "display_name": "Python 3"
    },
    "language_info": {
      "name": "python"
    }
  },
  "cells": [
    {
      "cell_type": "markdown",
      "source": [
        "Step 1: Import Libraries\n"
      ],
      "metadata": {
        "id": "nCppW6Wkai4M"
      }
    },
    {
      "cell_type": "code",
      "execution_count": 1,
      "metadata": {
        "id": "dWFU9WP9RpWb"
      },
      "outputs": [],
      "source": [
        "import random\n",
        "import numpy as np\n",
        "import pandas as pd\n",
        "import matplotlib.pyplot as plt\n",
        "from sklearn.model_selection import train_test_split\n",
        "from sklearn.tree import DecisionTreeClassifier\n",
        "from sklearn.metrics import accuracy_score, confusion_matrix"
      ]
    },
    {
      "cell_type": "markdown",
      "source": [
        "Step 2: Create the Blackjack Game\n",
        "Next, let's create the blackjack game. We'll start by defining the card values and creating a deck of cards:"
      ],
      "metadata": {
        "id": "ekcKLuG1axbV"
      }
    },
    {
      "cell_type": "code",
      "source": [
        "card_values = {\n",
        "    'Ace': 1, '2': 2, '3': 3, '4': 4, '5': 5, '6': 6, '7': 7, '8': 8, '9': 9, '10': 10, 'Jack': 10, 'Queen': 10, 'King': 10\n",
        "}\n",
        "\n",
        "deck = list(card_values.keys()) * 4\n",
        "random.shuffle(deck)"
      ],
      "metadata": {
        "id": "Z1pJFD3KR_qJ"
      },
      "execution_count": 45,
      "outputs": []
    },
    {
      "cell_type": "markdown",
      "source": [
        "Then, let's define the player and dealer classes:"
      ],
      "metadata": {
        "id": "x2Rw5ZPja5_Y"
      }
    },
    {
      "cell_type": "code",
      "source": [
        "class Player:\n",
        "    def __init__(self):\n",
        "        self.hand = []\n",
        "        \n",
        "    def draw_card(self, deck):\n",
        "        card = deck.pop()\n",
        "        self.hand.append(card)\n",
        "        return card\n",
        "    \n",
        "    def get_hand_value(self):\n",
        "        values = [card_values[card] for card in self.hand]\n",
        "        total_value = sum(values)\n",
        "        \n",
        "        # check for aces\n",
        "        num_aces = self.hand.count('Ace')\n",
        "        for i in range(num_aces):\n",
        "            if total_value + 10 <= 21:\n",
        "                total_value += 10\n",
        "                \n",
        "        return total_value\n",
        "    \n",
        "class Dealer(Player):\n",
        "    def __init__(self):\n",
        "        super().__init__()\n",
        "        \n",
        "    def get_visible_card(self):\n",
        "        return self.hand[0]"
      ],
      "metadata": {
        "id": "XFvX6MBsSB8T"
      },
      "execution_count": 3,
      "outputs": []
    },
    {
      "cell_type": "markdown",
      "source": [
        "The Player class represents the player's hand and defines the draw_card and get_hand_value methods. The Dealer class is a subclass of Player and represents the dealer's hand. It defines the get_visible_card method, which returns the dealer's visible card.\n",
        "\n",
        "Next, let's define the game loop:"
      ],
      "metadata": {
        "id": "LO38JjDcbA-c"
      }
    },
    {
      "cell_type": "code",
      "source": [
        "def play_game(deck):\n",
        "    # initialize player and dealer\n",
        "    player = Player()\n",
        "    dealer = Dealer()\n",
        "    \n",
        "    # initial deal\n",
        "    player.draw_card(deck)\n",
        "    dealer.draw_card(deck)\n",
        "    player.draw_card(deck)\n",
        "    dealer.draw_card(deck)\n",
        "    \n",
        "    # check for natural blackjack\n",
        "    if player.get_hand_value() == 21:\n",
        "        return 'Player wins'\n",
        "    elif dealer.get_hand_value() == 21:\n",
        "        return 'Dealer wins'\n",
        "    \n",
        "    # player's turn\n",
        "    while player.get_hand_value() < 21:\n",
        "        print(player.hand)\n",
        "        print(player.get_hand_value())\n",
        "        #print( player.get_hand_value())\n",
        "        action = input('Hit or stand? ')\n",
        "        if action.lower() == 'hit':\n",
        "            player.draw_card(deck)\n",
        "            print(f'Player drew {player.hand[-1]}')\n",
        "        else:\n",
        "            playerStand = 1\n",
        "\n",
        "            break\n",
        "            \n",
        "    player_value = player.get_hand_value()\n",
        "    \n",
        "    # dealer's turn\n",
        "    while dealer.get_hand_value() < 17:\n",
        "        dealer.draw_card(deck)\n",
        "        print(f'Dealer drew {dealer.hand[-1]}')\n",
        "        \n",
        "    dealer_value = dealer.get_hand_value()\n",
        "    \n",
        "    # determine winner\n",
        "    print(f'Player has {player_value}')\n",
        "    print(f'Dealer has {dealer_value}')\n",
        "    if player_value > 21:\n",
        "        print(dealer.hand)\n",
        "        return 'Dealer wins'\n",
        "        \n",
        "    elif dealer_value > 21:\n",
        "        return 'Player wins!'\n",
        "\n",
        "\n",
        "    if player_value > dealer_value:\n",
        "        return 'Player wins!'\n",
        "    else: \n",
        "        return 'Dealer wins'"
      ],
      "metadata": {
        "id": "vGVJYwiFSI4O"
      },
      "execution_count": 42,
      "outputs": []
    },
    {
      "cell_type": "markdown",
      "source": [
        "\n",
        "And here you can play the game! (Remember to run all code blocks and to rerun the 2nd step to reset the deck)"
      ],
      "metadata": {
        "id": "8YZHvwgpbc_g"
      }
    },
    {
      "cell_type": "code",
      "source": [
        "play_game(deck)"
      ],
      "metadata": {
        "colab": {
          "base_uri": "https://localhost:8080/",
          "height": 209
        },
        "id": "1FWxmG0NShAJ",
        "outputId": "d4ea71ec-2b74-4be3-df54-d90f257c4c61"
      },
      "execution_count": 47,
      "outputs": [
        {
          "output_type": "stream",
          "name": "stdout",
          "text": [
            "['8', '4']\n",
            "12\n",
            "Hit or stand? hit\n",
            "Player drew 3\n",
            "['8', '4', '3']\n",
            "15\n",
            "Hit or stand? stand\n",
            "Dealer drew Queen\n",
            "Player has 15\n",
            "Dealer has 23\n"
          ]
        },
        {
          "output_type": "execute_result",
          "data": {
            "text/plain": [
              "'Player wins!'"
            ],
            "application/vnd.google.colaboratory.intrinsic+json": {
              "type": "string"
            }
          },
          "metadata": {},
          "execution_count": 47
        }
      ]
    }
  ]
}